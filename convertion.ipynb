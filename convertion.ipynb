{
 "cells": [
  {
   "cell_type": "code",
   "execution_count": 1,
   "metadata": {},
   "outputs": [],
   "source": [
    "import ee\n",
    "import geemap"
   ]
  },
  {
   "cell_type": "code",
   "execution_count": 24,
   "metadata": {},
   "outputs": [],
   "source": [
    "js_snippet = \"\"\"\n",
    "  \n",
    "\"\"\"\n",
    "geemap.js_snippet_to_py(js_snippet)"
   ]
  },
  {
   "cell_type": "code",
   "execution_count": 27,
   "metadata": {},
   "outputs": [],
   "source": [
    "import ee\n",
    "import geemap\n",
    "\n",
    "Map = geemap.Map()\n",
    "\n",
    "table = ee.FeatureCollection(\"projects/ee-fernandotentor/assets/Agreed/Outwoods_Warren\")\n",
    "farms = ee.ImageCollection(\"projects/ee-fernandotentor/assets/Agreed/Farms\")\n",
    "#########/  S2\n",
    "\n",
    "stardate = '2017-04-01'\n",
    "enddate = '2022-01-01'\n",
    "\n",
    "start = ee.Date(stardate)\n",
    "end = ee.Date(enddate)\n",
    "timedelta = end.difference(start, 'day')\n",
    "aggregation = 1\n",
    "timeunit = 'month'; #'day' or 'month'\n",
    "scale = 100\n",
    "\n",
    "imageCollection = ee.ImageCollection(\"COPERNICUS/S2_SR\")\n",
    "\n",
    "########  function Sentinel 2 NDVI\n",
    "\n",
    "def add_ndvi (image):\n",
    "  ndvi = image.normalizedDifference(['B8','B4']).rename('ndvi')\n",
    "  return image.addBands(ndvi)\n",
    "\n",
    "########  function Sentinel 2 NDMI\n",
    "def add_ndmi (image):\n",
    "  ndvi = image.normalizedDifference(['B8','B11']).rename('ndmi')\n",
    "  return image.addBands(ndvi)\n",
    "\n",
    "######/ Cloud mask\n",
    "\n",
    "def cloudmask (image):\n",
    "  mask = image.select('SCL').gte(8).And(image.select('SCL').neq(11))\n",
    "  return image.mask(mask.neq(1))\n",
    "\n",
    "def get_data(table):\n",
    "  S2 = imageCollection \\\n",
    "    .filterDate('2015-06-01', enddate) \\\n",
    "    .filterBounds(table) \\\n",
    "    .map(cloudmask) \\\n",
    "    .map(add_ndvi) \\\n",
    "    .map(add_ndmi) \\\n",
    "    .select(['ndvi','ndmi'])\n",
    "\n",
    "  # Aggregation\n",
    "\n",
    "  def step (count):\n",
    "    return start.advance(count, timeunit)\n",
    "\n",
    "  def filter (date):\n",
    "    images_g = S2.filterDate(date,ee.Date(date).advance(aggregation,timeunit))\n",
    "    return images_g.mean().set('system:time_start',ee.Date(date)).set('system:date',ee.Date(date).format('dd-MM-yyyy'))\n",
    "\n",
    "  S2_list = ee.List.sequence(0, timedelta.int(),aggregation) \\\n",
    "    .map(step) \\\n",
    "    .map(filter)\n",
    "\n",
    "  # Check missing values\n",
    "  def check (image):\n",
    "    return ee.Algorithms.If(ee.Image(image).bandNames(), ee.Image(image))\n",
    "\n",
    "  S2_list_clean = S2_list.map(check, True)\n",
    "\n",
    "  return S2_list_clean\n",
    "\n"
   ]
  },
  {
   "cell_type": "code",
   "execution_count": 28,
   "metadata": {},
   "outputs": [],
   "source": [
    "S2_list_clean = get_data(table)"
   ]
  },
  {
   "cell_type": "code",
   "execution_count": null,
   "metadata": {},
   "outputs": [],
   "source": []
  },
  {
   "cell_type": "code",
   "execution_count": null,
   "metadata": {},
   "outputs": [],
   "source": []
  }
 ],
 "metadata": {
  "interpreter": {
   "hash": "916dbcbb3f70747c44a77c7bcd40155683ae19c65e1c03b4aa3499c5328201f1"
  },
  "kernelspec": {
   "display_name": "Python 3.8.5 64-bit",
   "language": "python",
   "name": "python3"
  },
  "language_info": {
   "codemirror_mode": {
    "name": "ipython",
    "version": 3
   },
   "file_extension": ".py",
   "mimetype": "text/x-python",
   "name": "python",
   "nbconvert_exporter": "python",
   "pygments_lexer": "ipython3",
   "version": "3.8.5"
  },
  "orig_nbformat": 4
 },
 "nbformat": 4,
 "nbformat_minor": 2
}
