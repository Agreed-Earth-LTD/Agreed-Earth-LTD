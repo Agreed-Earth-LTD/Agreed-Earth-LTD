{
 "cells": [
  {
   "cell_type": "code",
   "execution_count": 49,
   "metadata": {},
   "outputs": [
    {
     "name": "stdout",
     "output_type": "stream",
     "text": [
      "Frog_selsey_outwoods.geojson\n",
      "Julian_neighborhood.geojson\n",
      "Parton_neighborhood.geojson\n"
     ]
    }
   ],
   "source": [
    "import warnings\n",
    "\n",
    "warnings.filterwarnings(\"ignore\", category=FutureWarning)\n",
    "import requests\n",
    "import geopandas as gpd\n",
    "\n",
    "user = \"Fernigithub\"\n",
    "repo = \"files\"\n",
    "\n",
    "url = f\"https://api.github.com/repos/{user}/{repo}/git/trees/main?recursive=1\"\n",
    "r = requests.get(url)\n",
    "res = r.json()\n",
    "\n",
    "file_list=[]\n",
    "for file in res[\"tree\"]:\n",
    "    file_list.append(file[\"path\"])\n",
    "    print(file[\"path\"])\n"
   ]
  },
  {
   "cell_type": "code",
   "execution_count": 30,
   "metadata": {},
   "outputs": [
    {
     "data": {
      "application/vnd.jupyter.widget-view+json": {
       "model_id": "f3a0d2c0c8634daca480d5a84d56a605",
       "version_major": 2,
       "version_minor": 0
      },
      "text/plain": [
       "GridBox(children=(Checkbox(value=False, description='Frog_selsey_outwoods'), Checkbox(value=False, description…"
      ]
     },
     "metadata": {},
     "output_type": "display_data"
    }
   ],
   "source": [
    "from ipywidgets import widgets\n",
    "\n",
    "checkitems = [widgets.Checkbox(value=False, description=label.split('.')[0]) for label in file_list]\n",
    "widgets.GridBox(checkitems, layout=widgets.Layout(grid_template_columns=\"repeat(3, 300px)\"))\n"
   ]
  },
  {
   "cell_type": "code",
   "execution_count": 50,
   "metadata": {},
   "outputs": [
    {
     "name": "stdout",
     "output_type": "stream",
     "text": [
      "['Julian_neighborhood', 'Parton_neighborhood']\n",
      "['https://raw.githubusercontent.com/Fernigithub/files/main/Julian_neighborhood.geojson', 'https://raw.githubusercontent.com/Fernigithub/files/main/Parton_neighborhood.geojson']\n"
     ]
    }
   ],
   "source": [
    "\n",
    "selected_data = []\n",
    "for j,item in enumerate(checkitems):\n",
    "    if item.value == True:\n",
    "      selected_data.append(item.description)\n",
    "\n",
    "print(selected_data)\n",
    "links = [str(f'https://raw.githubusercontent.com/Fernigithub/files/main/{x}.geojson') for x in selected_data]\n",
    "print(links)\n",
    "\n",
    "for item in links:\n",
    "  gdf = gdf.append(gpd.read_file(item))"
   ]
  },
  {
   "cell_type": "code",
   "execution_count": 51,
   "metadata": {},
   "outputs": [
    {
     "data": {
      "text/plain": [
       "<AxesSubplot:>"
      ]
     },
     "execution_count": 51,
     "metadata": {},
     "output_type": "execute_result"
    },
    {
     "data": {
      "image/png": "[encoded data removed]",
      "text/plain": [
       "<Figure size 432x288 with 1 Axes>"
      ]
     },
     "metadata": {
      "needs_background": "light"
     },
     "output_type": "display_data"
    }
   ],
   "source": [
    "gdf.plot()"
   ]
  }
 ],
 "metadata": {
  "kernelspec": {
   "display_name": "Python 3.10.4 64-bit",
   "language": "python",
   "name": "python3"
  },
  "language_info": {
   "codemirror_mode": {
    "name": "ipython",
    "version": 3
   },
   "file_extension": ".py",
   "mimetype": "text/x-python",
   "name": "python",
   "nbconvert_exporter": "python",
   "pygments_lexer": "ipython3",
   "version": "3.10.4"
  },
  "orig_nbformat": 4,
  "vscode": {
   "interpreter": {
    "hash": "1cbadf7e30f156f4e0b68f4bca81fa70237e67691d6ebe573bb449e31d409fb8"
   }
  }
 },
 "nbformat": 4,
 "nbformat_minor": 2
}
