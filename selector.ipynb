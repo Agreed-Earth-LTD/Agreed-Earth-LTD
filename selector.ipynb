{
 "cells": [
  {
   "cell_type": "code",
   "execution_count": 4,
   "metadata": {},
   "outputs": [],
   "source": [
    "import geopandas as gpd\n",
    "import ipywidgets as widgets"
   ]
  },
  {
   "cell_type": "code",
   "execution_count": 5,
   "metadata": {},
   "outputs": [],
   "source": [
    "gdf = gpd.read_file('https://raw.githubusercontent.com/Fernigithub/files/main/Parton_neighborhood.geojson')\n",
    "gdf.crs = \"epsg:4326\"\n"
   ]
  },
  {
   "cell_type": "code",
   "execution_count": 7,
   "metadata": {},
   "outputs": [
    {
     "data": {
      "text/plain": [
       "'Neighbor_2'"
      ]
     },
     "metadata": {},
     "output_type": "display_data"
    },
    {
     "data": {
      "application/vnd.jupyter.widget-view+json": {
       "model_id": "39101c7153ef49b18a919284a1a7fae3",
       "version_major": 2,
       "version_minor": 0
      },
      "text/plain": [
       "Checkbox(value=False, description='Neighbor_2')"
      ]
     },
     "metadata": {},
     "output_type": "display_data"
    },
    {
     "data": {
      "application/vnd.jupyter.widget-view+json": {
       "model_id": "e99fa58809bd4ad6a8170c45688cff7b",
       "version_major": 2,
       "version_minor": 0
      },
      "text/plain": [
       "HBox(children=(Checkbox(value=False, description='1'),))"
      ]
     },
     "metadata": {},
     "output_type": "display_data"
    },
    {
     "data": {
      "text/plain": [
       "'Parton'"
      ]
     },
     "metadata": {},
     "output_type": "display_data"
    },
    {
     "data": {
      "application/vnd.jupyter.widget-view+json": {
       "model_id": "c8fbe6c52a5c41908453a80195c27e52",
       "version_major": 2,
       "version_minor": 0
      },
      "text/plain": [
       "Checkbox(value=False, description='Parton')"
      ]
     },
     "metadata": {},
     "output_type": "display_data"
    },
    {
     "data": {
      "application/vnd.jupyter.widget-view+json": {
       "model_id": "9174437d46af4eb3b95d44b41a6f3ea7",
       "version_major": 2,
       "version_minor": 0
      },
      "text/plain": [
       "HBox(children=(Checkbox(value=False, description='2'), Checkbox(value=False, description='3'), Checkbox(value=…"
      ]
     },
     "metadata": {},
     "output_type": "display_data"
    },
    {
     "data": {
      "application/vnd.jupyter.widget-view+json": {
       "model_id": "84ab01e2a1c54102a186be70eb42ae50",
       "version_major": 2,
       "version_minor": 0
      },
      "text/plain": [
       "HBox(children=(Checkbox(value=False, description='8'), Checkbox(value=False, description='9'), Checkbox(value=…"
      ]
     },
     "metadata": {},
     "output_type": "display_data"
    },
    {
     "data": {
      "application/vnd.jupyter.widget-view+json": {
       "model_id": "4c5e8e06c45949c291f5064ec0fbeb45",
       "version_major": 2,
       "version_minor": 0
      },
      "text/plain": [
       "HBox(children=(Checkbox(value=False, description='14'), Checkbox(value=False, description='15'), Checkbox(valu…"
      ]
     },
     "metadata": {},
     "output_type": "display_data"
    },
    {
     "data": {
      "application/vnd.jupyter.widget-view+json": {
       "model_id": "961eb31d47004aaca805fda6bc9f0285",
       "version_major": 2,
       "version_minor": 0
      },
      "text/plain": [
       "HBox(children=(Checkbox(value=False, description='20'), Checkbox(value=False, description='21'), Checkbox(valu…"
      ]
     },
     "metadata": {},
     "output_type": "display_data"
    },
    {
     "data": {
      "application/vnd.jupyter.widget-view+json": {
       "model_id": "47c282cf7bca4244a946bed3b06914fa",
       "version_major": 2,
       "version_minor": 0
      },
      "text/plain": [
       "HBox(children=(Checkbox(value=False, description='27'),))"
      ]
     },
     "metadata": {},
     "output_type": "display_data"
    },
    {
     "data": {
      "text/plain": [
       "'Neighbor_1'"
      ]
     },
     "metadata": {},
     "output_type": "display_data"
    },
    {
     "data": {
      "application/vnd.jupyter.widget-view+json": {
       "model_id": "5bc16eb4c52c4bc699fd844e6b823f2d",
       "version_major": 2,
       "version_minor": 0
      },
      "text/plain": [
       "Checkbox(value=False, description='Neighbor_1')"
      ]
     },
     "metadata": {},
     "output_type": "display_data"
    },
    {
     "data": {
      "application/vnd.jupyter.widget-view+json": {
       "model_id": "bf6de3bec301476abe1fe50e3362af27",
       "version_major": 2,
       "version_minor": 0
      },
      "text/plain": [
       "HBox(children=(Checkbox(value=False, description='26'),))"
      ]
     },
     "metadata": {},
     "output_type": "display_data"
    }
   ],
   "source": [
    "def selectall(b):\n",
    "  farm = b['owner'].description\n",
    "  data = gdf.loc[gdf['Farm'] == farm].Field.values\n",
    "  if b.old ==False:\n",
    "    for check_group in checkbox_list:\n",
    "      for item in check_group:\n",
    "        if item.description in data:\n",
    "          item.value = True\n",
    "  else:\n",
    "    for check_group in checkbox_list:\n",
    "      for item in check_group:\n",
    "        if item.description in data:\n",
    "          item.value = False\n",
    "          \n",
    "farms = gdf.Farm.unique()\n",
    "n = 6 #items by line\n",
    "checkbox_list = []\n",
    "for farm in farms:\n",
    "  data = gdf.loc[gdf['Farm'] == farm].Field\n",
    "  checkboxes = [widgets.Checkbox(value=False, description=label) for label in data]\n",
    "  checkbox_list.append(checkboxes)\n",
    "\n",
    "for j,check_group in enumerate(checkbox_list):\n",
    "  i=0\n",
    "  checkall = widgets.Checkbox(value=False, description=farms[j])\n",
    "  display(farms[j],checkall)\n",
    "  checkall.observe(selectall,names='value')\n",
    "  for item in range(0,len(check_group),n ):\n",
    "    output = widgets.HBox(children=check_group[i:i+n])\n",
    "    i += n\n",
    "    display(output)\n",
    "\n",
    "\n"
   ]
  },
  {
   "cell_type": "code",
   "execution_count": 17,
   "metadata": {},
   "outputs": [
    {
     "data": {
      "application/vnd.jupyter.widget-view+json": {
       "model_id": "7f5081aefd0d415da5d868b9ae5c5e43",
       "version_major": 2,
       "version_minor": 0
      },
      "text/plain": [
       "Checkbox(value=False, description='checker')"
      ]
     },
     "metadata": {},
     "output_type": "display_data"
    },
    {
     "name": "stdout",
     "output_type": "stream",
     "text": [
      "{'name': '_property_lock', 'old': traitlets.Undefined, 'new': {'value': True}, 'owner': Checkbox(value=False, description='checker'), 'type': 'change'}\n",
      "{'name': 'value', 'old': False, 'new': True, 'owner': Checkbox(value=True, description='checker'), 'type': 'change'}\n",
      "{'name': '_property_lock', 'old': {'value': True}, 'new': {}, 'owner': Checkbox(value=True, description='checker'), 'type': 'change'}\n"
     ]
    }
   ],
   "source": [
    "box = widgets.Checkbox(False, description='checker')\n",
    "display(box)\n",
    "\n",
    "def changed(b):\n",
    "    print(b)\n",
    "\n",
    "box.observe(changed)"
   ]
  },
  {
   "cell_type": "code",
   "execution_count": 13,
   "metadata": {},
   "outputs": [
    {
     "data": {
      "application/vnd.jupyter.widget-view+json": {
       "model_id": "c205a1cfa6444d3b985b33b0e54f9b59",
       "version_major": 2,
       "version_minor": 0
      },
      "text/plain": [
       "HBox(children=(VBox(children=(Button(description='correct', style=ButtonStyle()), Button(description='horse', …"
      ]
     },
     "metadata": {},
     "output_type": "display_data"
    }
   ],
   "source": [
    "from ipywidgets import Button, HBox, VBox\n",
    "\n",
    "words = ['correct', 'horse', 'battery', 'staple']\n",
    "items = [Button(description=w) for w in words]\n",
    "left_box = VBox([items[0], items[1]])\n",
    "right_box = VBox([items[2], items[3]])\n",
    "HBox([left_box, right_box])"
   ]
  },
  {
   "cell_type": "code",
   "execution_count": 14,
   "metadata": {},
   "outputs": [
    {
     "data": {
      "application/vnd.jupyter.widget-view+json": {
       "model_id": "7d936209e2ca4b06aac9069bcc09f7e5",
       "version_major": 2,
       "version_minor": 0
      },
      "text/plain": [
       "Checkbox(value=False, description='checker')"
      ]
     },
     "metadata": {},
     "output_type": "display_data"
    },
    {
     "data": {
      "application/vnd.jupyter.widget-view+json": {
       "model_id": "c06adc1226014e0b831e716a907e35e6",
       "version_major": 2,
       "version_minor": 0
      },
      "text/plain": [
       "Output()"
      ]
     },
     "metadata": {},
     "output_type": "display_data"
    }
   ],
   "source": [
    "box = widgets.Checkbox(False, description='checker')\n",
    "out = widgets.Output()\n",
    "\n",
    "@out.capture()\n",
    "def changed(b):\n",
    "    print(b)\n",
    "\n",
    "box.observe(changed)\n",
    "\n",
    "display(box)\n",
    "display(out)"
   ]
  },
  {
   "cell_type": "code",
   "execution_count": 22,
   "metadata": {},
   "outputs": [
    {
     "data": {
      "application/vnd.jupyter.widget-view+json": {
       "model_id": "8bcc8f4633b8408fa78e2d1ef22e491c",
       "version_major": 2,
       "version_minor": 0
      },
      "text/plain": [
       "Checkbox(value=False, description='Remove 3')"
      ]
     },
     "metadata": {},
     "output_type": "display_data"
    },
    {
     "data": {
      "application/vnd.jupyter.widget-view+json": {
       "model_id": "2642fad016b84dc7aa0fcc757de7e1ba",
       "version_major": 2,
       "version_minor": 0
      },
      "text/plain": [
       "VBox(children=(Checkbox(value=False, description='1'), Checkbox(value=False, description='2'), Checkbox(value=…"
      ]
     },
     "metadata": {},
     "output_type": "display_data"
    },
    {
     "name": "stdout",
     "output_type": "stream",
     "text": [
      "{'name': '_property_lock', 'old': traitlets.Undefined, 'new': {'value': True}, 'owner': Checkbox(value=False, description='Remove 3'), 'type': 'change'}\n",
      "{'name': 'value', 'old': False, 'new': True, 'owner': Checkbox(value=True, description='Remove 3'), 'type': 'change'}\n",
      "{'name': '_property_lock', 'old': {'value': True}, 'new': {}, 'owner': Checkbox(value=True, description='Remove 3'), 'type': 'change'}\n"
     ]
    }
   ],
   "source": [
    "from ipywidgets import Checkbox, VBox\n",
    "\n",
    "cb1 = Checkbox(description='1')\n",
    "cb2 = Checkbox(description='2')\n",
    "cb3 = Checkbox(description='3')\n",
    "\n",
    "vb = VBox(children = [cb1, cb2, cb3])\n",
    "top_toggle = Checkbox(description='Remove 3')\n",
    "\n",
    "def remove_3(button):\n",
    "    print(button)\n",
    "    if button['new']:\n",
    "        # vb.children = [cb1, cb2]\n",
    "        cb1.value = True\n",
    "        vb.children = [cb1, cb2]\n",
    "    else:\n",
    "        cb1.value = False\n",
    "        vb.children = [cb1, cb2, cb3]\n",
    "\n",
    "top_toggle.observe(remove_3, names='value')\n",
    "display(top_toggle)\n",
    "display(vb)"
   ]
  },
  {
   "cell_type": "code",
   "execution_count": 5,
   "metadata": {},
   "outputs": [
    {
     "data": {
      "application/vnd.jupyter.widget-view+json": {
       "model_id": "6890e09b00b64bf390740720174f6f1b",
       "version_major": 2,
       "version_minor": 0
      },
      "text/plain": [
       "FileUpload(value={}, description='Upload')"
      ]
     },
     "metadata": {},
     "output_type": "display_data"
    }
   ],
   "source": [
    "widgets.FileUpload(\n",
    "    accept='',  # Accepted file extension e.g. '.txt', '.pdf', 'image/*', 'image/*,.pdf'\n",
    "    multiple=False  # True to accept multiple files upload else False\n",
    ")"
   ]
  },
  {
   "cell_type": "code",
   "execution_count": null,
   "metadata": {},
   "outputs": [],
   "source": []
  }
 ],
 "metadata": {
  "kernelspec": {
   "display_name": "Python 3.8.0 64-bit",
   "language": "python",
   "name": "python3"
  },
  "language_info": {
   "codemirror_mode": {
    "name": "ipython",
    "version": 3
   },
   "file_extension": ".py",
   "mimetype": "text/x-python",
   "name": "python",
   "nbconvert_exporter": "python",
   "pygments_lexer": "ipython3",
   "version": "3.8.0"
  },
  "orig_nbformat": 4,
  "vscode": {
   "interpreter": {
    "hash": "ba290bf4f73e38c3f6ab465b949260dde6ae03f5ae335ead3a4919b2805508da"
   }
  }
 },
 "nbformat": 4,
 "nbformat_minor": 2
}
